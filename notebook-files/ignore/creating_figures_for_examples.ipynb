{
 "cells": [
  {
   "cell_type": "code",
   "execution_count": 1,
   "metadata": {
    "ExecuteTime": {
     "end_time": "2018-09-04T14:40:33.669425Z",
     "start_time": "2018-09-04T14:40:32.771950Z"
    }
   },
   "outputs": [],
   "source": [
    "import matplotlib.pyplot as plt\n",
    "import matplotlib"
   ]
  },
  {
   "cell_type": "code",
   "execution_count": 2,
   "metadata": {
    "ExecuteTime": {
     "end_time": "2018-09-04T14:40:34.202876Z",
     "start_time": "2018-09-04T14:40:33.680972Z"
    }
   },
   "outputs": [
    {
     "data": {
      "image/png": "[encoded data removed]",
      "text/plain": [
       "<Figure size 288x288 with 1 Axes>"
      ]
     },
     "metadata": {},
     "output_type": "display_data"
    }
   ],
   "source": [
    "fontsize = 16\n",
    "\n",
    "fig = plt.figure(figsize=(4,4))\n",
    "\n",
    "ax = fig.add_subplot(111)\n",
    "ax.set_xticks([])\n",
    "ax.set_yticks([])\n",
    "\n",
    "fig.tight_layout()\n",
    "ax_pos = ax.get_position()\n",
    "\n",
    "ax.text(s='(ax_pos.x0,\\n  ax_pos.y0)', \\\n",
    "        x=0,y=0,\\\n",
    "        ha='center', va='center', \n",
    "        color='firebrick', weight='bold', \\\n",
    "        fontsize=fontsize, transform=ax.transAxes)\n",
    "\n",
    "ax.text(s='(ax_pos.x1,\\n  ax_pos.y0)', \\\n",
    "        x=1,y=0,\\\n",
    "        ha='center', va='center', \n",
    "        color='firebrick', weight='bold', \\\n",
    "        fontsize=fontsize, transform=ax.transAxes)\n",
    "\n",
    "ax.text(s='(ax_pos.x0,\\n  ax_pos.y1)', \\\n",
    "        x=0,y=1,\\\n",
    "        ha='center', va='center', \n",
    "        color='firebrick', weight='bold', \\\n",
    "        fontsize=fontsize, transform=ax.transAxes)\n",
    "\n",
    "ax.text(s='(ax_pos.x1,\\n  ax_pos.y1)', \\\n",
    "        x=1,y=1,\\\n",
    "        ha='center', va='center', \n",
    "        color='firebrick', weight='bold', \\\n",
    "        fontsize=fontsize, transform=ax.transAxes)\n",
    "\n",
    "ax.text(s='ax_pos.width', \\\n",
    "        x=ax_pos.x0+0.5*ax_pos.width, \\\n",
    "        y=1.0, ha='center', va='bottom', \\\n",
    "        color='darkcyan', weight='bold', \\\n",
    "        fontsize=fontsize, transform=ax.transAxes)\n",
    "\n",
    "ax.text(s='ax_pos.height', \\\n",
    "        x=0, \\\n",
    "        y=ax_pos.y0+0.5*ax_pos.height, \\\n",
    "        ha='right', va='center', \\\n",
    "        color='darkcyan', weight='bold', \\\n",
    "        rotation=90, \\\n",
    "        fontsize=fontsize, transform=ax.transAxes)\n",
    "\n",
    "ax.spines['bottom'].set_color('0.25')\n",
    "ax.spines['top'].set_color('0.25') \n",
    "ax.spines['right'].set_color('0.25')\n",
    "ax.spines['left'].set_color('0.25')\n",
    "\n",
    "axes_string = \\\n",
    "'fig = plt.figure()\\n' + \\\n",
    "'ax = fig.add_subplot(111)\\n' + \\\n",
    "'ax_pos = ax.get_position()'\n",
    "\n",
    "fontproperties = matplotlib.font_manager.FontProperties(family='monospace')\n",
    "text_object = ax.text(s=axes_string, \\\n",
    "                      x=0.08,y=0.5,\\\n",
    "                      ha='left', va='center', \\\n",
    "                      color='0.25', weight='bold', fontproperties=fontproperties, \\\n",
    "                      fontsize=fontsize-2, transform=ax.transAxes)\n",
    "\n",
    "textpos = text_object.get_position()\n",
    "\n",
    "!rm ax_pos_example.png\n",
    "fig.savefig('ax_pos_example.png', dpi=100, bbox_inches='tight', transparent=True)"
   ]
  },
  {
   "cell_type": "code",
   "execution_count": 14,
   "metadata": {
    "ExecuteTime": {
     "end_time": "2018-09-04T14:45:11.594416Z",
     "start_time": "2018-09-04T14:45:11.390029Z"
    }
   },
   "outputs": [
    {
     "data": {
      "image/png": "[encoded data removed]",
      "text/plain": [
       "<Figure size 360x360 with 4 Axes>"
      ]
     },
     "metadata": {},
     "output_type": "display_data"
    }
   ],
   "source": [
    "fig, ax_array = plt.subplots(2,2)\n",
    "ax_array = ax_array.flatten()\n",
    "\n",
    "[ax.set_xticks([]) for ax in ax_array]\n",
    "[ax.set_yticks([]) for ax in ax_array]\n",
    "\n",
    "labels = ['ax1','ax2','ax3','ax4']\n",
    "for i in range(4):\n",
    "    ax_array[i].text(s=labels[i], x=0.5, y=0.5, ha='center', va='center', fontsize=16)\n",
    "\n",
    "fig.tight_layout()\n",
    "fig.set_size_inches(5,5)\n",
    "\n",
    "fig.savefig('grid_example_equal_size.png', transparent=True, bbox_inches='tight')"
   ]
  },
  {
   "cell_type": "code",
   "execution_count": 12,
   "metadata": {
    "ExecuteTime": {
     "end_time": "2018-09-04T14:43:46.781960Z",
     "start_time": "2018-09-04T14:43:46.640396Z"
    }
   },
   "outputs": [
    {
     "name": "stdout",
     "output_type": "stream",
     "text": [
      "1-matplotlib-basics.ipynb             _5-plotting-LandSat-data.ipynb\r\n",
      "2-panel-plots-and-embedded-axes.ipynb anatomy1.png\r\n",
      "3-maps-in-cartopy.ipynb               ax_pos_example.png\r\n",
      "4-publication-quality-figures.ipynb   creating_figures_for_examples.ipynb\r\n",
      "5-plotting-LandSat-data.ipynb         fig_map.png\r\n",
      "5-plotting-MODIS-data.ipynb           gridspec_example.png\r\n"
     ]
    }
   ],
   "source": [
    "!ls"
   ]
  },
  {
   "cell_type": "code",
   "execution_count": null,
   "metadata": {},
   "outputs": [],
   "source": []
  }
 ],
 "metadata": {
  "kernelspec": {
   "display_name": "Randerson tutorial",
   "language": "python",
   "name": "randerson-tutorial"
  },
  "language_info": {
   "codemirror_mode": {
    "name": "ipython",
    "version": 3
   },
   "file_extension": ".py",
   "mimetype": "text/x-python",
   "name": "python",
   "nbconvert_exporter": "python",
   "pygments_lexer": "ipython3",
   "version": "3.7.0"
  }
 },
 "nbformat": 4,
 "nbformat_minor": 2
}
