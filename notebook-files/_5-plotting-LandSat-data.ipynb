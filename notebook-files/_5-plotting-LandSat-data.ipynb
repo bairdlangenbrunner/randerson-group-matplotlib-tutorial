{
 "cells": [
  {
   "cell_type": "markdown",
   "metadata": {},
   "source": [
    "# Plotting a LandSat tile\n",
    "\n",
    "---\n",
    "\n",
    "### What does this cover?\n",
    "1.  Opening LandSat data using `geopandas`\n",
    "2.  "
   ]
  },
  {
   "cell_type": "code",
   "execution_count": 1,
   "metadata": {
    "ExecuteTime": {
     "end_time": "2018-09-04T03:18:18.185473Z",
     "start_time": "2018-09-04T03:18:15.412295Z"
    }
   },
   "outputs": [],
   "source": [
    "import xarray\n",
    "import cartopy\n",
    "import matplotlib.pyplot as plt\n",
    "import numpy as np\n",
    "import cmocean\n",
    "import geopandas"
   ]
  },
  {
   "cell_type": "markdown",
   "metadata": {},
   "source": [
    "Downloaded L1 LandSat images from Amazon Web Services:  \n",
    "https://landsatonaws.com/L8/226/057/LC08_L1GT_226057_20180815_20180815_01_RT"
   ]
  },
  {
   "cell_type": "code",
   "execution_count": null,
   "metadata": {
    "ExecuteTime": {
     "end_time": "2018-09-04T02:52:51.130179Z",
     "start_time": "2018-09-04T02:52:50.516855Z"
    }
   },
   "outputs": [],
   "source": [
    "!ls ../data-files/LC08_L1GT_226057_20180815_20180815_01_RT_B2.TIF"
   ]
  },
  {
   "cell_type": "code",
   "execution_count": null,
   "metadata": {
    "ExecuteTime": {
     "end_time": "2018-09-03T15:18:51.108273Z",
     "start_time": "2018-09-03T15:18:50.638812Z"
    }
   },
   "outputs": [],
   "source": [
    "# band 2 (blue)\n",
    "L8_b2 = xarray.open_rasterio('../data-files/LC08_L1GT_226057_20180815_20180815_01_RT_B2.TIF')\n",
    "# band 3 (green)\n",
    "L8_b3 = xarray.open_rasterio('../data-files/LC08_L1GT_226057_20180815_20180815_01_RT_B3.TIF')\n",
    "# band 4 (red)\n",
    "L8_b4 = xarray.open_rasterio('../data-files/LC08_L1GT_226057_20180815_20180815_01_RT_B4.TIF')"
   ]
  },
  {
   "cell_type": "code",
   "execution_count": null,
   "metadata": {
    "ExecuteTime": {
     "end_time": "2018-09-03T15:18:51.134129Z",
     "start_time": "2018-09-03T15:18:51.110936Z"
    }
   },
   "outputs": [],
   "source": [
    "L8_b2"
   ]
  },
  {
   "cell_type": "code",
   "execution_count": null,
   "metadata": {
    "ExecuteTime": {
     "end_time": "2018-09-03T15:18:59.339200Z",
     "start_time": "2018-09-03T15:18:52.508844Z"
    }
   },
   "outputs": [],
   "source": [
    "plt.imshow(L8_b2[0,:,:], origin='upper')"
   ]
  },
  {
   "cell_type": "code",
   "execution_count": null,
   "metadata": {
    "ExecuteTime": {
     "end_time": "2018-09-03T15:19:04.592840Z",
     "start_time": "2018-09-03T15:18:59.342246Z"
    }
   },
   "outputs": [],
   "source": [
    "plt.imshow(L8_b3[0,:,:], origin='upper')"
   ]
  },
  {
   "cell_type": "code",
   "execution_count": null,
   "metadata": {
    "ExecuteTime": {
     "end_time": "2018-09-03T15:19:09.407267Z",
     "start_time": "2018-09-03T15:19:04.597625Z"
    }
   },
   "outputs": [],
   "source": [
    "plt.imshow(L8_b4[0,:,:], origin='upper', cmap='gist_earth', vmin=50, vmax=30000)\n",
    "plt.colorbar()"
   ]
  },
  {
   "cell_type": "code",
   "execution_count": null,
   "metadata": {
    "ExecuteTime": {
     "end_time": "2018-09-03T15:19:09.420463Z",
     "start_time": "2018-09-03T15:19:09.410263Z"
    }
   },
   "outputs": [],
   "source": [
    "data_extent = (L8_b2.transform[0], \\\n",
    "               L8_b2.transform[0] + L8_b2.x.size*L8_b2.transform[1], \\\n",
    "               L8_b2.transform[3] + L8_b2.y.size*L8_b2.transform[5], \\\n",
    "               L8_b2.transform[3])"
   ]
  },
  {
   "cell_type": "markdown",
   "metadata": {},
   "source": [
    "Now merge RGB channels into one and plot a \"true color\" image.  Adapted from here:  \n",
    "https://colekrehbiel.wordpress.com/2017/10/01/creating-natural-color-rgb-composites-from-landsat-8-data-in-python/"
   ]
  },
  {
   "cell_type": "code",
   "execution_count": null,
   "metadata": {
    "ExecuteTime": {
     "end_time": "2018-09-03T15:19:09.428487Z",
     "start_time": "2018-09-03T15:19:09.423487Z"
    }
   },
   "outputs": [],
   "source": [
    "def norm(band):\n",
    "    band[band<0]=0\n",
    "    band[band>20000]=20000\n",
    "    band_min, band_max = 0, 20000 #band.min(), band.max()\n",
    "    return ((band - band_min)/(band_max - band_min))"
   ]
  },
  {
   "cell_type": "code",
   "execution_count": null,
   "metadata": {
    "ExecuteTime": {
     "end_time": "2018-09-03T14:43:22.331466Z",
     "start_time": "2018-09-03T14:43:11.630567Z"
    }
   },
   "outputs": [],
   "source": [
    "L8_b2_norm = norm(L8_b2[0,:,:].values)\n",
    "L8_b3_norm = norm(L8_b3[0,:,:].values)\n",
    "L8_b4_norm = norm(L8_b4[0,:,:].values)"
   ]
  },
  {
   "cell_type": "markdown",
   "metadata": {},
   "source": [
    "Download shoreline data from:  \n",
    "https://www.ngdc.noaa.gov/mgg/shorelines/\n",
    "\n",
    "Or download OpenStreetMap coastlines data from:  \n",
    "http://openstreetmapdata.com/data/coastlines"
   ]
  },
  {
   "cell_type": "code",
   "execution_count": null,
   "metadata": {
    "ExecuteTime": {
     "end_time": "2018-09-03T15:53:50.869156Z",
     "start_time": "2018-09-03T15:53:11.631237Z"
    }
   },
   "outputs": [],
   "source": [
    "#shapefile = geopandas.read_file('../data-files/gshhg-shp-2.3.7/GSHHS_shp/f/GSHHS_f_L2.shp')\n",
    "shapefile = geopandas.read_file('../data-files/coastlines-split-4326/lines.shp')"
   ]
  },
  {
   "cell_type": "code",
   "execution_count": null,
   "metadata": {
    "ExecuteTime": {
     "end_time": "2018-09-03T15:55:26.664125Z",
     "start_time": "2018-09-03T15:55:26.650923Z"
    }
   },
   "outputs": [],
   "source": [
    "shapefile.head()"
   ]
  },
  {
   "cell_type": "code",
   "execution_count": null,
   "metadata": {
    "ExecuteTime": {
     "end_time": "2018-09-03T14:44:02.142763Z",
     "start_time": "2018-09-03T14:43:49.087121Z"
    }
   },
   "outputs": [],
   "source": [
    "L8_rgb_432 = numpy.dstack((L8_b4_norm, L8_b3_norm, L8_b2_norm))"
   ]
  },
  {
   "cell_type": "code",
   "execution_count": null,
   "metadata": {
    "ExecuteTime": {
     "end_time": "2018-09-03T14:48:24.975761Z",
     "start_time": "2018-09-03T14:47:14.818558Z"
    }
   },
   "outputs": [],
   "source": [
    "#modis_globe = cartopy.crs.Globe(datum='WGS84', ellipse='sphere', semimajor_axis=6371007.181)\n",
    "map_proj = cartopy.crs.epsg(32622)\n",
    "data_proj = cartopy.crs.epsg(32622)\n",
    "\n",
    "fig = plt.figure(figsize=(4.25,4.25))\n",
    "ax = fig.add_subplot(111, projection=map_proj)\n",
    "image = ax.imshow(L8_rgb_432, extent=(data_extent[0],data_extent[1],data_extent[2],data_extent[3]), \\\n",
    "                  origin='upper', transform=data_proj)\n",
    "ax.coastlines(resolution='10m', color='firebrick')\n",
    "\n",
    "fig.tight_layout()\n",
    "fig.savefig('../figures/5-landsat-true-color.png', bbox_inches='tight', transparent=True, dpi=300)"
   ]
  }
 ],
 "metadata": {
  "kernelspec": {
   "display_name": "Randerson matplotlib tutorial",
   "language": "python",
   "name": "randerson-matplotlib-tutorial"
  },
  "language_info": {
   "codemirror_mode": {
    "name": "ipython",
    "version": 3
   },
   "file_extension": ".py",
   "mimetype": "text/x-python",
   "name": "python",
   "nbconvert_exporter": "python",
   "pygments_lexer": "ipython3",
   "version": "3.6.6"
  }
 },
 "nbformat": 4,
 "nbformat_minor": 2
}
